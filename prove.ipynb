{
 "cells": [
  {
   "cell_type": "code",
   "execution_count": 21,
   "metadata": {},
   "outputs": [
    {
     "name": "stdout",
     "output_type": "stream",
     "text": [
      "                  LCO2     SampleName Concentration                      .1  \\\n",
      "0            Detectors            NaN   moduleA:tcd                           \n",
      "1  Time (GMT 120 mins)            NaN      Ossigeno       Azoto      Metano   \n",
      "2  2024-10-04 09:22:35  test-02-10-24    0.00007370  0.00000000  0.00000000   \n",
      "3  2024-10-04 09:14:48  test-02-10-24    0.00000000  0.00000000  0.00000000   \n",
      "4  2024-10-04 09:06:59  test-02-10-24    0.00006752  0.00000000  0.00000000   \n",
      "\n",
      "                      .2            .3          .4          .5          .6  \\\n",
      "0                          moduleB:tcd                                       \n",
      "1  Monossido di Carbonio           CO2       Etano         H2S   Propilene   \n",
      "2             0.00000000  100.56460858  0.00000000  0.00000000  0.00000000   \n",
      "3             0.00004435  100.52753060  0.00000000  0.00000000  0.00000000   \n",
      "4             0.00000000  100.56275364  0.00000000  0.00000000  0.00000000   \n",
      "\n",
      "   ...       .70      .71          .72        .73      .74      .75      .76  \\\n",
      "0  ...                     moduleC:tcd                                         \n",
      "1  ...  n-Butano  Etanolo    i-Pentano  n-Pentano  n-Esano  Benzene  Toluene   \n",
      "2  ...    170.20   175.76        44.40      51.28    92.26   112.28   144.20   \n",
      "3  ...    170.20   175.76        44.40      51.28    92.26   112.28   144.20   \n",
      "4  ...    170.20   175.76        44.40      51.28    92.26   112.28   144.20   \n",
      "\n",
      "           .77         .78       .79  \n",
      "0                                     \n",
      "1  EtilBenzene  m,p-Xilene  o-Xilene  \n",
      "2       168.28      170.24    176.02  \n",
      "3       168.28      170.24    176.02  \n",
      "4       168.28      170.24    176.02  \n",
      "\n",
      "[5 rows x 86 columns]\n"
     ]
    }
   ],
   "source": [
    "import pandas as pd\n",
    "\n",
    "# import from a csv file\n",
    "#parti dalla 3 riga\n",
    "df2 = pd.read_csv(r\"C:\\Users\\galloni\\Downloads\\Dati test_02-04_10.csv\", header=2)\n",
    "\n",
    "print(df2.head())"
   ]
  },
  {
   "cell_type": "code",
   "execution_count": 79,
   "metadata": {},
   "outputs": [],
   "source": [
    "#tieni solo le colonne LCO2, Sample Name, Concentration and Normalized Concentration\n",
    "#drop dalla colonna Area in poi, identifica dove si trova la colonna Area e prendi l'indice\n",
    "#poi fai drop di tutte le colonne da quell'indice in poi\n",
    "df=df2.copy()\n",
    "index = df.columns.get_loc(\"Area\")\n",
    "df = df.drop(df.columns[index:], axis=1)"
   ]
  },
  {
   "cell_type": "code",
   "execution_count": 80,
   "metadata": {},
   "outputs": [
    {
     "name": "stdout",
     "output_type": "stream",
     "text": [
      "['LCO2', 'SampleName', 'Concentration', ' ', ' .1', ' .2', ' .3', ' .4', ' .5', ' .6', ' .7', ' .8', ' .9', ' .10', ' .11', ' .12', ' .13', ' .14', ' .15', ' .16', ' .17', ' .18', ' .19', 'NormalizedConcentration', ' .20', ' .21', ' .22', ' .23', ' .24', ' .25', ' .26', ' .27', ' .28', ' .29', ' .30', ' .31', ' .32', ' .33', ' .34', ' .35', ' .36', ' .37', ' .38', ' .39']\n",
      "23 2\n",
      "['Ossigeno', 'Azoto', 'Metano', 'Monossido di Carbonio', 'CO2', 'Etano', 'H2S', 'Propilene', 'Propano', 'DME', 'Metanolo', 'n-Butano', 'Etanolo', 'i-Pentano', 'n-Pentano', 'n-Esano', 'Benzene', 'Toluene', 'EtilBenzene', 'm,p-Xilene', 'o-Xilene', 'Ossigeno', 'Azoto', 'Metano', 'Monossido di Carbonio', 'CO2', 'Etano', 'H2S', 'Propilene', 'Propano', 'DME', 'Metanolo', 'n-Butano', 'Etanolo', 'i-Pentano', 'n-Pentano', 'n-Esano', 'Benzene', 'Toluene', 'EtilBenzene', 'm,p-Xilene', 'o-Xilene']\n",
      "['Time (GMT 120 mins)', 'Sample Name', 'OssigenoC', 'AzotoC', 'MetanoC', 'Monossido di CarbonioC', 'CO2C', 'EtanoC', 'H2SC', 'PropileneC', 'PropanoC', 'DMEC', 'MetanoloC', 'n-ButanoC', 'EtanoloC', 'i-PentanoC', 'n-PentanoC', 'n-EsanoC', 'BenzeneC', 'TolueneC', 'EtilBenzeneC', 'm,p-XileneC', 'o-XileneC', 'OssigenoNC', 'AzotoNC', 'MetanoNC', 'Monossido di CarbonioNC', 'CO2NC', 'EtanoNC', 'H2SNC', 'PropileneNC', 'PropanoNC', 'DMENC', 'MetanoloNC', 'n-ButanoNC', 'EtanoloNC', 'i-PentanoNC', 'n-PentanoNC', 'n-EsanoNC', 'BenzeneNC', 'TolueneNC', 'EtilBenzeneNC', 'm,p-XileneNC', 'o-XileneNC']\n",
      "   Time (GMT 120 mins)    Sample Name    OssigenoC      AzotoC     MetanoC  \\\n",
      "0            Detectors            NaN  moduleA:tcd                           \n",
      "1  Time (GMT 120 mins)            NaN     Ossigeno       Azoto      Metano   \n",
      "2  2024-10-04 09:22:35  test-02-10-24   0.00007370  0.00000000  0.00000000   \n",
      "3  2024-10-04 09:14:48  test-02-10-24   0.00000000  0.00000000  0.00000000   \n",
      "4  2024-10-04 09:06:59  test-02-10-24   0.00006752  0.00000000  0.00000000   \n",
      "\n",
      "  Monossido di CarbonioC          CO2C      EtanoC        H2SC  PropileneC  \\\n",
      "0                          moduleB:tcd                                       \n",
      "1  Monossido di Carbonio           CO2       Etano         H2S   Propilene   \n",
      "2             0.00000000  100.56460858  0.00000000  0.00000000  0.00000000   \n",
      "3             0.00004435  100.52753060  0.00000000  0.00000000  0.00000000   \n",
      "4             0.00000000  100.56275364  0.00000000  0.00000000  0.00000000   \n",
      "\n",
      "   ...  n-ButanoNC   EtanoloNC  i-PentanoNC n-PentanoNC   n-EsanoNC  \\\n",
      "0  ...                          moduleC:tcd                           \n",
      "1  ...    n-Butano     Etanolo    i-Pentano   n-Pentano     n-Esano   \n",
      "2  ...  0.00000000  0.00000000   0.00000000  0.00000000  0.00000000   \n",
      "3  ...  0.00000000  0.00000000   0.00000000  0.00000000  0.00000000   \n",
      "4  ...  0.00000000  0.00000000   0.00000000  0.00000000  0.00000000   \n",
      "\n",
      "    BenzeneNC   TolueneNC EtilBenzeneNC m,p-XileneNC  o-XileneNC  \n",
      "0                                                                 \n",
      "1     Benzene     Toluene   EtilBenzene   m,p-Xilene    o-Xilene  \n",
      "2  0.00000000  0.00000000    0.00000000   0.00000000  0.00000000  \n",
      "3  0.00000000  0.00000000    0.00000000   0.00000000  0.00000000  \n",
      "4  0.00000000  0.00000000    0.00000000   0.00000000  0.00000000  \n",
      "\n",
      "[5 rows x 44 columns]\n"
     ]
    }
   ],
   "source": [
    "print(list(df.columns))\n",
    "index_NC = df.columns.get_loc(\"NormalizedConcentration\")\n",
    "index_C = df.columns.get_loc(\"Concentration\")\n",
    "print(index_NC, index_C)\n",
    "\n",
    "# Rename columns from index_C to index_NC by appending \"C\"\n",
    "df.columns = list(df.iloc[1, :])\n",
    "colonne = list(df.columns[index_C:])\n",
    "print(colonne)\n",
    "\n",
    "# Rinomina le colonne duplicate\n",
    "colonne_rename = []\n",
    "seen = {}\n",
    "\n",
    "for col in colonne:\n",
    "    if col not in seen:\n",
    "        seen[col] = 0\n",
    "        colonne_rename.append(col + \"C\")\n",
    "    else:\n",
    "        seen[col] += 1\n",
    "        if seen[col] == 1:\n",
    "            colonne_rename.append(col + \"NC\")\n",
    "        else:\n",
    "            colonne_rename.append(col + f\"NC{seen[col]}\")\n",
    "\n",
    "# Rinomina la colonna Sample Name\n",
    "nuove_colonne = list(df.columns[:index_C]) + colonne_rename\n",
    "nuove_colonne[1]= \"Sample Name\"\n",
    "df.columns = nuove_colonne\n",
    "print(list(df.columns))\n",
    "print(df.head())"
   ]
  },
  {
   "cell_type": "code",
   "execution_count": 81,
   "metadata": {},
   "outputs": [
    {
     "name": "stdout",
     "output_type": "stream",
     "text": [
      "   Time (GMT 120 mins)    Sample Name   OssigenoC      AzotoC     MetanoC  \\\n",
      "2  2024-10-04 09:22:35  test-02-10-24  0.00007370  0.00000000  0.00000000   \n",
      "3  2024-10-04 09:14:48  test-02-10-24  0.00000000  0.00000000  0.00000000   \n",
      "4  2024-10-04 09:06:59  test-02-10-24  0.00006752  0.00000000  0.00000000   \n",
      "5  2024-10-04 08:59:12  test-02-10-24  0.00000000  0.00000000  0.00000000   \n",
      "6  2024-10-04 08:51:23  test-02-10-24  0.00000000  0.00000000  0.00000000   \n",
      "\n",
      "  Monossido di CarbonioC          CO2C      EtanoC        H2SC  PropileneC  \\\n",
      "2             0.00000000  100.56460858  0.00000000  0.00000000  0.00000000   \n",
      "3             0.00004435  100.52753060  0.00000000  0.00000000  0.00000000   \n",
      "4             0.00000000  100.56275364  0.00000000  0.00000000  0.00000000   \n",
      "5             0.00000000  100.56706972  0.00000000  0.00000000  0.00000000   \n",
      "6             0.00000000  100.57087746  0.00000000  0.00000000  0.00000000   \n",
      "\n",
      "   ...  n-ButanoNC   EtanoloNC i-PentanoNC n-PentanoNC   n-EsanoNC  \\\n",
      "2  ...  0.00000000  0.00000000  0.00000000  0.00000000  0.00000000   \n",
      "3  ...  0.00000000  0.00000000  0.00000000  0.00000000  0.00000000   \n",
      "4  ...  0.00000000  0.00000000  0.00000000  0.00000000  0.00000000   \n",
      "5  ...  0.00000000  0.00000000  0.00000000  0.00000000  0.00000000   \n",
      "6  ...  0.00000000  0.00000000  0.00000000  0.00000000  0.00000000   \n",
      "\n",
      "    BenzeneNC   TolueneNC EtilBenzeneNC m,p-XileneNC  o-XileneNC  \n",
      "2  0.00000000  0.00000000    0.00000000   0.00000000  0.00000000  \n",
      "3  0.00000000  0.00000000    0.00000000   0.00000000  0.00000000  \n",
      "4  0.00000000  0.00000000    0.00000000   0.00000000  0.00000000  \n",
      "5  0.00000000  0.00000000    0.00000000   0.00000000  0.00000000  \n",
      "6  0.00000000  0.00000000    0.00000000   0.00000000  0.00000000  \n",
      "\n",
      "[5 rows x 44 columns]\n"
     ]
    }
   ],
   "source": [
    "df.drop([0, 1], inplace=True)\n",
    "print(df.head())"
   ]
  },
  {
   "cell_type": "code",
   "execution_count": 82,
   "metadata": {},
   "outputs": [],
   "source": [
    "#elimina l'ultima riga\n",
    "df.drop(df.tail(1).index, inplace=True)"
   ]
  },
  {
   "cell_type": "code",
   "execution_count": 83,
   "metadata": {},
   "outputs": [],
   "source": [
    "#converti i valori delle colonne in float\n",
    "for col in colonne_rename:\n",
    "    df[col] = df[col].str.replace(\",\", \".\").astype(float)"
   ]
  },
  {
   "cell_type": "code",
   "execution_count": 88,
   "metadata": {},
   "outputs": [
    {
     "name": "stdout",
     "output_type": "stream",
     "text": [
      "La colonna 'EtanoC' non esiste nel DataFrame filtrato.\n"
     ]
    }
   ],
   "source": [
    "# Identifica le righe con almeno un valore diverso da 0\n",
    "df_filtered = df.loc[(df != 0).any(axis=1)]\n",
    "\n",
    "# Rimuovi le colonne che contengono solo valori zero\n",
    "df_filtered = df_filtered.loc[:, (df_filtered != 0).any(axis=0)]\n",
    "\n",
    "# Verifica se la colonna \"EtanoC\" esiste nel DataFrame filtrato\n",
    "if \"EtanoC\" in df_filtered.columns:\n",
    "    # Filtra ulteriormente per mantenere solo i valori non zero nella colonna \"EtanoC\"\n",
    "    etanoC_non_zero = df_filtered[\"EtanoC\"].loc[df_filtered[\"EtanoC\"] != 0]\n",
    "    if not etanoC_non_zero.empty:\n",
    "        print(etanoC_non_zero)\n",
    "    else:\n",
    "        print(\"Tutti i valori nella colonna 'EtanoC' sono zero.\")\n",
    "else:\n",
    "    print(\"La colonna 'EtanoC' non esiste nel DataFrame filtrato.\")"
   ]
  },
  {
   "cell_type": "code",
   "execution_count": 89,
   "metadata": {},
   "outputs": [
    {
     "name": "stdout",
     "output_type": "stream",
     "text": [
      "Index(['Time (GMT 120 mins)', 'Sample Name', 'OssigenoC',\n",
      "       'Monossido di CarbonioC', 'CO2C', 'OssigenoNC',\n",
      "       'Monossido di CarbonioNC', 'CO2NC'],\n",
      "      dtype='object')\n",
      "Index(['Time (GMT 120 mins)', 'Sample Name', 'OssigenoC', 'AzotoC', 'MetanoC',\n",
      "       'Monossido di CarbonioC', 'CO2C', 'EtanoC', 'H2SC', 'PropileneC',\n",
      "       'PropanoC', 'DMEC', 'MetanoloC', 'n-ButanoC', 'EtanoloC', 'i-PentanoC',\n",
      "       'n-PentanoC', 'n-EsanoC', 'BenzeneC', 'TolueneC', 'EtilBenzeneC',\n",
      "       'm,p-XileneC', 'o-XileneC', 'OssigenoNC', 'AzotoNC', 'MetanoNC',\n",
      "       'Monossido di CarbonioNC', 'CO2NC', 'EtanoNC', 'H2SNC', 'PropileneNC',\n",
      "       'PropanoNC', 'DMENC', 'MetanoloNC', 'n-ButanoNC', 'EtanoloNC',\n",
      "       'i-PentanoNC', 'n-PentanoNC', 'n-EsanoNC', 'BenzeneNC', 'TolueneNC',\n",
      "       'EtilBenzeneNC', 'm,p-XileneNC', 'o-XileneNC'],\n",
      "      dtype='object')\n"
     ]
    }
   ],
   "source": [
    "print(df_filtered.columns)\n",
    "print(df.columns)"
   ]
  },
  {
   "cell_type": "code",
   "execution_count": 68,
   "metadata": {},
   "outputs": [
    {
     "name": "stdout",
     "output_type": "stream",
     "text": [
      "    Time (GMT 120 mins)    Sample Name   OssigenoC      AzotoC     MetanoC  \\\n",
      "50  2024-10-04 03:09:03  test-02-10-24  0.00006959  0.00000000  0.00000000   \n",
      "51  2024-10-04 03:01:18  test-02-10-24  0.00008430  0.00000000  0.00000000   \n",
      "\n",
      "   Monossido di CarbonioC          CO2C      EtanoC        H2SC  PropileneC  \\\n",
      "50             0.00000000  100.21299274  0.00000000  0.00000000  0.00000000   \n",
      "51             0.00000000  100.43207548  0.00000000  0.00000000  0.00000000   \n",
      "\n",
      "    ...  n-ButanoNC   EtanoloNC i-PentanoNC n-PentanoNC   n-EsanoNC  \\\n",
      "50  ...  0.00000000  0.00000000  0.00000000  0.00000000  0.00000000   \n",
      "51  ...  0.00000000  0.00000000  0.00000000  0.00000000  0.00000000   \n",
      "\n",
      "     BenzeneNC   TolueneNC EtilBenzeneNC m,p-XileneNC  o-XileneNC  \n",
      "50  0.00000000  0.00000000    0.00000000   0.00000000  0.00000000  \n",
      "51  0.00000000  0.00000000    0.00000000   0.00000000  0.00000000  \n",
      "\n",
      "[2 rows x 44 columns]\n"
     ]
    }
   ],
   "source": [
    "#stampa le ultime 2 righe\n",
    "print(df.tail(2))"
   ]
  },
  {
   "cell_type": "code",
   "execution_count": 10,
   "metadata": {},
   "outputs": [
    {
     "name": "stdout",
     "output_type": "stream",
     "text": [
      "   Time (GMT 120 mins)            NaN    Ossigeno       Azoto      Metano  \\\n",
      "1  2024-10-04 09:22:35  test-02-10-24  0.00007370  0.00000000  0.00000000   \n",
      "2  2024-10-04 09:14:48  test-02-10-24  0.00000000  0.00000000  0.00000000   \n",
      "3  2024-10-04 09:06:59  test-02-10-24  0.00006752  0.00000000  0.00000000   \n",
      "4  2024-10-04 08:59:12  test-02-10-24  0.00000000  0.00000000  0.00000000   \n",
      "5  2024-10-04 08:51:23  test-02-10-24  0.00000000  0.00000000  0.00000000   \n",
      "\n",
      "  Monossido di Carbonio           CO2       Etano         H2S   Propilene  \\\n",
      "1            0.00000000  100.56460858  0.00000000  0.00000000  0.00000000   \n",
      "2            0.00004435  100.52753060  0.00000000  0.00000000  0.00000000   \n",
      "3            0.00000000  100.56275364  0.00000000  0.00000000  0.00000000   \n",
      "4            0.00000000  100.56706972  0.00000000  0.00000000  0.00000000   \n",
      "5            0.00000000  100.57087746  0.00000000  0.00000000  0.00000000   \n",
      "\n",
      "   ... Etanolo i-Pentano n-Pentano n-Esano Benzene Toluene EtilBenzene  \\\n",
      "1  ...  175.76     44.40     51.28   92.26  112.28  144.20      168.28   \n",
      "2  ...  175.76     44.40     51.28   92.26  112.28  144.20      168.28   \n",
      "3  ...  175.76     44.40     51.28   92.26  112.28  144.20      168.28   \n",
      "4  ...  175.76     44.40     51.28   92.26  112.28  144.20      168.28   \n",
      "5  ...  175.76     44.40     51.28   92.26  112.28  144.20      168.28   \n",
      "\n",
      "  m,p-Xilene o-Xilene count  \n",
      "1     170.24   176.02     1  \n",
      "2     170.24   176.02     2  \n",
      "3     170.24   176.02     3  \n",
      "4     170.24   176.02     4  \n",
      "5     170.24   176.02     5  \n",
      "\n",
      "[5 rows x 87 columns]\n"
     ]
    }
   ],
   "source": [
    "# add a coloumn which count the row starting from 1\n",
    "df['count'] = range(1, len(df) + 1)\n",
    "print(df.head())"
   ]
  },
  {
   "cell_type": "code",
   "execution_count": 1,
   "metadata": {},
   "outputs": [
    {
     "name": "stdout",
     "output_type": "stream",
     "text": [
      "Numero di file con estensione '.fusion-data': 50\n"
     ]
    }
   ],
   "source": [
    "import os\n",
    "\n",
    "# Specifica il percorso della cartella e l'estensione del file\n",
    "path = r\"C:\\Users\\galloni\\Downloads\\Dati\"\n",
    "extension = '.fusion-data'\n",
    "\n",
    "# Conta i file con l'estensione specificata\n",
    "file_count = len([f for f in os.listdir(path) if f.endswith(extension)])\n",
    "\n",
    "print(f\"Numero di file con estensione '{extension}': {file_count}\")"
   ]
  },
  {
   "cell_type": "code",
   "execution_count": 48,
   "metadata": {},
   "outputs": [
    {
     "name": "stdout",
     "output_type": "stream",
     "text": [
      "                        methodLocation methodName  \\\n",
      "moduleA:tcd  /methods/userMethods/LCO2       LCO2   \n",
      "moduleB:tcd  /methods/userMethods/LCO2       LCO2   \n",
      "moduleC:tcd  /methods/userMethods/LCO2       LCO2   \n",
      "comment      /methods/userMethods/LCO2       LCO2   \n",
      "isPreset     /methods/userMethods/LCO2       LCO2   \n",
      "\n",
      "                                                     detectors  \\\n",
      "moduleA:tcd  {'detectorId': 3, 'nValuesPerSecond': 50, 'nVa...   \n",
      "moduleB:tcd  {'detectorId': 3, 'nValuesPerSecond': 100, 'nV...   \n",
      "moduleC:tcd  {'detectorId': 3, 'nValuesPerSecond': 50, 'nVa...   \n",
      "comment                                                    NaN   \n",
      "isPreset                                                   NaN   \n",
      "\n",
      "             runDataFormatLevel              runTimeStamp method  \\\n",
      "moduleA:tcd                   1  2024-10-04T01:01:18.767Z    NaN   \n",
      "moduleB:tcd                   1  2024-10-04T01:01:18.767Z    NaN   \n",
      "moduleC:tcd                   1  2024-10-04T01:01:18.767Z    NaN   \n",
      "comment                       1  2024-10-04T01:01:18.767Z          \n",
      "isPreset                      1  2024-10-04T01:01:18.767Z   True   \n",
      "\n",
      "            systemConfiguration annotations sequence softwareVersion  \\\n",
      "moduleA:tcd                 NaN         NaN      NaN             NaN   \n",
      "moduleB:tcd                 NaN         NaN      NaN             NaN   \n",
      "moduleC:tcd                 NaN         NaN      NaN             NaN   \n",
      "comment                     NaN         NaN      NaN             NaN   \n",
      "isPreset                    NaN         NaN      NaN             NaN   \n",
      "\n",
      "             frontInletTotalConcentration $displayName  \\\n",
      "moduleA:tcd                     100.43216         LCO2   \n",
      "moduleB:tcd                     100.43216         LCO2   \n",
      "moduleC:tcd                     100.43216         LCO2   \n",
      "comment                         100.43216         LCO2   \n",
      "isPreset                        100.43216         LCO2   \n",
      "\n",
      "                                              $id  \n",
      "moduleA:tcd  deddc5c3-2b1e-4e88-ad72-b5e8bb1d67ee  \n",
      "moduleB:tcd  deddc5c3-2b1e-4e88-ad72-b5e8bb1d67ee  \n",
      "moduleC:tcd  deddc5c3-2b1e-4e88-ad72-b5e8bb1d67ee  \n",
      "comment      deddc5c3-2b1e-4e88-ad72-b5e8bb1d67ee  \n",
      "isPreset     deddc5c3-2b1e-4e88-ad72-b5e8bb1d67ee  \n"
     ]
    }
   ],
   "source": [
    "import pandas as pd\n",
    "import os\n",
    "\n",
    "file = r\"C:\\Users\\galloni\\Downloads\\Dati\\test-02-10-24 - Oct 04 2024, 03;01.fusion-data\"\n",
    "\n",
    "# Verifica che il file esista\n",
    "if os.path.exists(file):\n",
    "    # Importa i dati dal file fusion-data\n",
    "    df3 = pd.read_json(file, orient='records')\n",
    "    print(df3.head())\n",
    "else:\n",
    "    print(f\"Il file {file} non esiste.\")"
   ]
  },
  {
   "cell_type": "code",
   "execution_count": 99,
   "metadata": {},
   "outputs": [
    {
     "name": "stdout",
     "output_type": "stream",
     "text": [
      "Index(['methodLocation', 'methodName', 'detectors', 'runDataFormatLevel',\n",
      "       'runTimeStamp', 'method', 'systemConfiguration', 'annotations',\n",
      "       'sequence', 'softwareVersion', 'frontInletTotalConcentration',\n",
      "       '$displayName', '$id'],\n",
      "      dtype='object')\n"
     ]
    }
   ],
   "source": [
    "print(df3.columns)"
   ]
  },
  {
   "cell_type": "code",
   "execution_count": 24,
   "metadata": {},
   "outputs": [
    {
     "name": "stdout",
     "output_type": "stream",
     "text": [
      "[{'area': 54.54, 'baselinePoints': {'end': 12582, 'start': 12587}, 'concentration': 8.4302419354e-05, 'end': 56.8, 'height': 58, 'label': 'Ossigeno', 'snr': 15.181, 'start': 54.46, 'tailing': 1.471, 'top': 54.96, 'normalizedConcentration': 8.393966588000001e-05}, {'area': 189.62, 'baselinePoints': {'end': 12588, 'start': 12591}, 'end': 64.56, 'height': 129, 'snr': 22.919, 'start': 60.84, 'tailing': 1.407, 'top': 61.64}, {'area': 0, 'concentration': 0, 'end': 73.06, 'height': 0, 'label': 'Azoto', 'snr': 0, 'start': 73.06, 'tailing': 0, 'top': 73.06, 'normalizedConcentration': 0}, {'area': 63.19, 'baselinePoints': {'end': 12559, 'start': 12567}, 'end': 76.96, 'height': 64, 'snr': 16.177, 'start': 75.12, 'tailing': 1.5, 'top': 75.64}, {'area': 0, 'concentration': 0, 'end': 96.12, 'height': 0, 'label': 'Metano', 'snr': 0, 'start': 96.12, 'tailing': 0, 'top': 96.12, 'normalizedConcentration': 0}, {'area': 0, 'concentration': 0, 'end': 160.92, 'height': 0, 'label': 'Monossido di Carbonio', 'snr': 0, 'start': 160.92, 'tailing': 0, 'top': 160.92, 'normalizedConcentration': 0}]\n"
     ]
    }
   ],
   "source": [
    "print((df3['detectors']['moduleA:tcd']['analysis']['peaks']))"
   ]
  },
  {
   "cell_type": "code",
   "execution_count": 26,
   "metadata": {},
   "outputs": [
    {
     "name": "stdout",
     "output_type": "stream",
     "text": [
      "4\n"
     ]
    }
   ],
   "source": [
    "# codice per contare quante proprietà label ci sono all'interno di 'peaks'\n",
    "count = 0\n",
    "for peak in df3['detectors']['moduleA:tcd']['analysis']['peaks']:\n",
    "    if 'label' in peak:\n",
    "        count += 1\n",
    "print(count)"
   ]
  },
  {
   "cell_type": "code",
   "execution_count": 28,
   "metadata": {},
   "outputs": [
    {
     "name": "stdout",
     "output_type": "stream",
     "text": [
      "moduleA:tcd             {'detectorId': 3, 'nValuesPerSecond': 50, 'nVa...\n",
      "moduleB:tcd             {'detectorId': 3, 'nValuesPerSecond': 100, 'nV...\n",
      "moduleC:tcd             {'detectorId': 3, 'nValuesPerSecond': 50, 'nVa...\n",
      "comment                                                               NaN\n",
      "isPreset                                                              NaN\n",
      "methodFormatLevel                                                     NaN\n",
      "systemPartNumber                                                      NaN\n",
      "peakParameters                                                        NaN\n",
      "sampling                                                              NaN\n",
      "accessories                                                           NaN\n",
      "modules                                                               NaN\n",
      "options                                                               NaN\n",
      "isFrontPanelPreset                                                    NaN\n",
      "systemInfo                                                            NaN\n",
      "name                                                                  NaN\n",
      "tags                                                                  NaN\n",
      "location                                                              NaN\n",
      "runTimeStamp                                                          NaN\n",
      "isFromUpdateFile                                                      NaN\n",
      "version                                                               NaN\n",
      "created                                                               NaN\n",
      "driveVersion                                                          NaN\n",
      "masterDriveBuildDate                                                  NaN\n",
      "Name: detectors, dtype: object\n"
     ]
    }
   ],
   "source": [
    "print(df3['detectors'])"
   ]
  },
  {
   "cell_type": "code",
   "execution_count": 31,
   "metadata": {},
   "outputs": [
    {
     "ename": "TypeError",
     "evalue": "list indices must be integers or slices, not str",
     "output_type": "error",
     "traceback": [
      "\u001b[1;31m---------------------------------------------------------------------------\u001b[0m",
      "\u001b[1;31mTypeError\u001b[0m                                 Traceback (most recent call last)",
      "Cell \u001b[1;32mIn[31], line 4\u001b[0m\n\u001b[0;32m      2\u001b[0m moduli\u001b[38;5;241m=\u001b[39m[\u001b[38;5;124m'\u001b[39m\u001b[38;5;124mmoduleA:tcd\u001b[39m\u001b[38;5;124m'\u001b[39m, \u001b[38;5;124m'\u001b[39m\u001b[38;5;124mmoduleB:tcd\u001b[39m\u001b[38;5;124m'\u001b[39m, \u001b[38;5;124m'\u001b[39m\u001b[38;5;124mmoduleC:tcd\u001b[39m\u001b[38;5;124m'\u001b[39m]\n\u001b[0;32m      3\u001b[0m normalized_concentration \u001b[38;5;241m=\u001b[39m {}\n\u001b[1;32m----> 4\u001b[0m \u001b[38;5;28;01mfor\u001b[39;00m modulo \u001b[38;5;129;01min\u001b[39;00m \u001b[43mmoduli\u001b[49m\u001b[43m[\u001b[49m\u001b[38;5;124;43m'\u001b[39;49m\u001b[38;5;124;43mdetectors\u001b[39;49m\u001b[38;5;124;43m'\u001b[39;49m\u001b[43m]\u001b[49m[modulo]:\n\u001b[0;32m      5\u001b[0m     \u001b[38;5;28;01mfor\u001b[39;00m peak \u001b[38;5;129;01min\u001b[39;00m df3[\u001b[38;5;124m'\u001b[39m\u001b[38;5;124mdetectors\u001b[39m\u001b[38;5;124m'\u001b[39m][modulo][\u001b[38;5;124m'\u001b[39m\u001b[38;5;124manalysis\u001b[39m\u001b[38;5;124m'\u001b[39m][\u001b[38;5;124m'\u001b[39m\u001b[38;5;124mpeaks\u001b[39m\u001b[38;5;124m'\u001b[39m]:\n\u001b[0;32m      6\u001b[0m         \u001b[38;5;28;01mif\u001b[39;00m \u001b[38;5;124m'\u001b[39m\u001b[38;5;124mlabel\u001b[39m\u001b[38;5;124m'\u001b[39m \u001b[38;5;129;01min\u001b[39;00m peak:\n",
      "\u001b[1;31mTypeError\u001b[0m: list indices must be integers or slices, not str"
     ]
    }
   ],
   "source": [
    "# Codice per ogni label presente in 'peaks' prelevare la normalizedConcentration e scrivere in un dizionario con chiave il label\n",
    "moduli=['moduleA:tcd', 'moduleB:tcd', 'moduleC:tcd']\n",
    "normalized_concentration = {}\n",
    "for modulo in moduli['detectors'][modulo]:\n",
    "    for peak in df3['detectors'][modulo]['analysis']['peaks']:\n",
    "        if 'label' in peak:\n",
    "            normalized_concentration[peak['label']] = peak['normalizedConcentration']\n",
    "print(normalized_concentration)"
   ]
  },
  {
   "cell_type": "code",
   "execution_count": 50,
   "metadata": {},
   "outputs": [
    {
     "name": "stdout",
     "output_type": "stream",
     "text": [
      "{'Ossigeno': [{'Concentrazione Normalizzata': 8.393966588000001e-05, 'Modulo': 'moduleA:tcd'}], 'Azoto': [{'Concentrazione Normalizzata': 0, 'Modulo': 'moduleA:tcd'}], 'Metano': [{'Concentrazione Normalizzata': 0, 'Modulo': 'moduleA:tcd'}], 'Monossido di Carbonio': [{'Concentrazione Normalizzata': 0, 'Modulo': 'moduleA:tcd'}], 'CO2': [{'Concentrazione Normalizzata': 99.99991606033412, 'Modulo': 'moduleB:tcd'}], 'Etano': [{'Concentrazione Normalizzata': 0, 'Modulo': 'moduleB:tcd'}], 'H2S': [{'Concentrazione Normalizzata': 0, 'Modulo': 'moduleB:tcd'}], 'Propilene': [{'Concentrazione Normalizzata': 0, 'Modulo': 'moduleB:tcd'}], 'Propano': [{'Concentrazione Normalizzata': 0, 'Modulo': 'moduleB:tcd'}], 'DME': [{'Concentrazione Normalizzata': 0, 'Modulo': 'moduleB:tcd'}], 'Metanolo': [{'Concentrazione Normalizzata': 0, 'Modulo': 'moduleB:tcd'}], 'n-Butano': [{'Concentrazione Normalizzata': 0, 'Modulo': 'moduleB:tcd'}], 'Etanolo': [{'Concentrazione Normalizzata': 0, 'Modulo': 'moduleB:tcd'}], 'i-Pentano': [{'Concentrazione Normalizzata': 0, 'Modulo': 'moduleC:tcd'}], 'n-Pentano': [{'Concentrazione Normalizzata': 0, 'Modulo': 'moduleC:tcd'}], 'n-Esano': [{'Concentrazione Normalizzata': 0, 'Modulo': 'moduleC:tcd'}], 'Benzene': [{'Concentrazione Normalizzata': 0, 'Modulo': 'moduleC:tcd'}], 'Toluene': [{'Concentrazione Normalizzata': 0, 'Modulo': 'moduleC:tcd'}], 'EtilBenzene': [{'Concentrazione Normalizzata': 0, 'Modulo': 'moduleC:tcd'}], 'm,p-Xilene': [{'Concentrazione Normalizzata': 0, 'Modulo': 'moduleC:tcd'}], 'o-Xilene': [{'Concentrazione Normalizzata': 0, 'Modulo': 'moduleC:tcd'}]}\n",
      "2024-10-04T01:01:18.767Z\n"
     ]
    }
   ],
   "source": [
    "# Codice per ogni label presente in 'peaks' prelevare la normalizedConcentration e scrivere in un dizionario con chiave il label\n",
    "moduli = ['moduleA:tcd', 'moduleB:tcd', 'moduleC:tcd']\n",
    "RisultatiAnalisi = {}\n",
    "time = df3['runTimeStamp']['runTimeStamp']\n",
    "for modulo in moduli:\n",
    "    for peak in df3['detectors'][modulo]['analysis']['peaks']:\n",
    "        if 'label' in peak:\n",
    "            a = {\n",
    "                # \"Specie Chimica\": peak['label'],\n",
    "                \"Concentrazione Normalizzata\": peak['normalizedConcentration'],\n",
    "                # \"Start [s]\": peak['baselinePoints']['start'],\n",
    "                # \"End [s]\": peak['baselinePoints']['end'],\n",
    "                \"Modulo\": modulo\n",
    "            }\n",
    "            if peak['label'] not in RisultatiAnalisi:\n",
    "                RisultatiAnalisi[peak['label']] = []\n",
    "            RisultatiAnalisi[peak['label']].append(a)\n",
    "\n",
    "print(RisultatiAnalisi)\n",
    "print(time)"
   ]
  },
  {
   "cell_type": "code",
   "execution_count": 57,
   "metadata": {},
   "outputs": [
    {
     "name": "stdout",
     "output_type": "stream",
     "text": [
      "                                 Time Specie Chimica  \\\n",
      "0    2024-10-04 01:01:18.767000+00:00       Ossigeno   \n",
      "20   2024-10-04 01:01:18.767000+00:00       o-Xilene   \n",
      "19   2024-10-04 01:01:18.767000+00:00     m,p-Xilene   \n",
      "18   2024-10-04 01:01:18.767000+00:00    EtilBenzene   \n",
      "17   2024-10-04 01:01:18.767000+00:00        Toluene   \n",
      "...                               ...            ...   \n",
      "1030 2024-10-04 07:22:35.406000+00:00          Azoto   \n",
      "1029 2024-10-04 07:22:35.406000+00:00       Ossigeno   \n",
      "1048 2024-10-04 07:22:35.406000+00:00     m,p-Xilene   \n",
      "1038 2024-10-04 07:22:35.406000+00:00            DME   \n",
      "1049 2024-10-04 07:22:35.406000+00:00       o-Xilene   \n",
      "\n",
      "      Concentrazione Normalizzata       Modulo  \n",
      "0                        0.000084  moduleA:tcd  \n",
      "20                       0.000000  moduleC:tcd  \n",
      "19                       0.000000  moduleC:tcd  \n",
      "18                       0.000000  moduleC:tcd  \n",
      "17                       0.000000  moduleC:tcd  \n",
      "...                           ...          ...  \n",
      "1030                     0.000000  moduleA:tcd  \n",
      "1029                     0.000073  moduleA:tcd  \n",
      "1048                     0.000000  moduleC:tcd  \n",
      "1038                     0.000000  moduleB:tcd  \n",
      "1049                     0.000000  moduleC:tcd  \n",
      "\n",
      "[1050 rows x 4 columns]\n"
     ]
    }
   ],
   "source": [
    "import os\n",
    "import json\n",
    "import pandas as pd\n",
    "\n",
    "# 1. Elenca tutti i file JSON nella cartella\n",
    "cartella = r\"C:\\Users\\galloni\\OneDrive - unibs.it\\Corsi\\Python\\AnalisiGC\\Dati\"\n",
    "file_json = [f for f in os.listdir(cartella) if f.endswith('.fusion-data')]\n",
    "\n",
    "# 2. Preleva i dati da ciascun file JSON\n",
    "dati = []\n",
    "for file in file_json:\n",
    "    with open(os.path.join(cartella, file), 'r') as f:\n",
    "        df3 = json.load(f)\n",
    "        # print(df3)\n",
    "        # 3. Estrai i dati richiesti\n",
    "        moduli = ['moduleA:tcd', 'moduleB:tcd', 'moduleC:tcd']\n",
    "        time = df3['runTimeStamp']\n",
    "        \n",
    "        for modulo in moduli:\n",
    "            for peak in df3['detectors'][modulo]['analysis']['peaks']:\n",
    "                if 'label' in peak:\n",
    "                    a = {\n",
    "                        \"Time\": time,\n",
    "                        \"Specie Chimica\": peak['label'],\n",
    "                        \"Concentrazione Normalizzata\": peak['normalizedConcentration'],\n",
    "                        \"Modulo\": modulo\n",
    "                    }\n",
    "                    dati.append(a)\n",
    "\n",
    "# 4. Crea un DataFrame e ordina i dati in funzione del tempo\n",
    "df = pd.DataFrame(dati)\n",
    "df['Time'] = pd.to_datetime(df['Time'])  # Assicurati che il formato del tempo sia corretto\n",
    "df = df.sort_values(by='Time')\n",
    "\n",
    "print(df)"
   ]
  }
 ],
 "metadata": {
  "kernelspec": {
   "display_name": "venv",
   "language": "python",
   "name": "python3"
  },
  "language_info": {
   "codemirror_mode": {
    "name": "ipython",
    "version": 3
   },
   "file_extension": ".py",
   "mimetype": "text/x-python",
   "name": "python",
   "nbconvert_exporter": "python",
   "pygments_lexer": "ipython3",
   "version": "3.11.9"
  }
 },
 "nbformat": 4,
 "nbformat_minor": 2
}
