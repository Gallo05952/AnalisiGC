{
 "cells": [
  {
   "cell_type": "code",
   "execution_count": 21,
   "metadata": {},
   "outputs": [
    {
     "name": "stdout",
     "output_type": "stream",
     "text": [
      "                  LCO2     SampleName Concentration                      .1  \\\n",
      "0            Detectors            NaN   moduleA:tcd                           \n",
      "1  Time (GMT 120 mins)            NaN      Ossigeno       Azoto      Metano   \n",
      "2  2024-10-04 09:22:35  test-02-10-24    0.00007370  0.00000000  0.00000000   \n",
      "3  2024-10-04 09:14:48  test-02-10-24    0.00000000  0.00000000  0.00000000   \n",
      "4  2024-10-04 09:06:59  test-02-10-24    0.00006752  0.00000000  0.00000000   \n",
      "\n",
      "                      .2            .3          .4          .5          .6  \\\n",
      "0                          moduleB:tcd                                       \n",
      "1  Monossido di Carbonio           CO2       Etano         H2S   Propilene   \n",
      "2             0.00000000  100.56460858  0.00000000  0.00000000  0.00000000   \n",
      "3             0.00004435  100.52753060  0.00000000  0.00000000  0.00000000   \n",
      "4             0.00000000  100.56275364  0.00000000  0.00000000  0.00000000   \n",
      "\n",
      "   ...       .70      .71          .72        .73      .74      .75      .76  \\\n",
      "0  ...                     moduleC:tcd                                         \n",
      "1  ...  n-Butano  Etanolo    i-Pentano  n-Pentano  n-Esano  Benzene  Toluene   \n",
      "2  ...    170.20   175.76        44.40      51.28    92.26   112.28   144.20   \n",
      "3  ...    170.20   175.76        44.40      51.28    92.26   112.28   144.20   \n",
      "4  ...    170.20   175.76        44.40      51.28    92.26   112.28   144.20   \n",
      "\n",
      "           .77         .78       .79  \n",
      "0                                     \n",
      "1  EtilBenzene  m,p-Xilene  o-Xilene  \n",
      "2       168.28      170.24    176.02  \n",
      "3       168.28      170.24    176.02  \n",
      "4       168.28      170.24    176.02  \n",
      "\n",
      "[5 rows x 86 columns]\n"
     ]
    }
   ],
   "source": [
    "import pandas as pd\n",
    "\n",
    "# import from a csv file\n",
    "#parti dalla 3 riga\n",
    "df2 = pd.read_csv(r\"C:\\Users\\galloni\\Downloads\\Dati test_02-04_10.csv\", header=2)\n",
    "\n",
    "print(df2.head())"
   ]
  },
  {
   "cell_type": "code",
   "execution_count": 79,
   "metadata": {},
   "outputs": [],
   "source": [
    "#tieni solo le colonne LCO2, Sample Name, Concentration and Normalized Concentration\n",
    "#drop dalla colonna Area in poi, identifica dove si trova la colonna Area e prendi l'indice\n",
    "#poi fai drop di tutte le colonne da quell'indice in poi\n",
    "df=df2.copy()\n",
    "index = df.columns.get_loc(\"Area\")\n",
    "df = df.drop(df.columns[index:], axis=1)"
   ]
  },
  {
   "cell_type": "code",
   "execution_count": 80,
   "metadata": {},
   "outputs": [
    {
     "name": "stdout",
     "output_type": "stream",
     "text": [
      "['LCO2', 'SampleName', 'Concentration', ' ', ' .1', ' .2', ' .3', ' .4', ' .5', ' .6', ' .7', ' .8', ' .9', ' .10', ' .11', ' .12', ' .13', ' .14', ' .15', ' .16', ' .17', ' .18', ' .19', 'NormalizedConcentration', ' .20', ' .21', ' .22', ' .23', ' .24', ' .25', ' .26', ' .27', ' .28', ' .29', ' .30', ' .31', ' .32', ' .33', ' .34', ' .35', ' .36', ' .37', ' .38', ' .39']\n",
      "23 2\n",
      "['Ossigeno', 'Azoto', 'Metano', 'Monossido di Carbonio', 'CO2', 'Etano', 'H2S', 'Propilene', 'Propano', 'DME', 'Metanolo', 'n-Butano', 'Etanolo', 'i-Pentano', 'n-Pentano', 'n-Esano', 'Benzene', 'Toluene', 'EtilBenzene', 'm,p-Xilene', 'o-Xilene', 'Ossigeno', 'Azoto', 'Metano', 'Monossido di Carbonio', 'CO2', 'Etano', 'H2S', 'Propilene', 'Propano', 'DME', 'Metanolo', 'n-Butano', 'Etanolo', 'i-Pentano', 'n-Pentano', 'n-Esano', 'Benzene', 'Toluene', 'EtilBenzene', 'm,p-Xilene', 'o-Xilene']\n",
      "['Time (GMT 120 mins)', 'Sample Name', 'OssigenoC', 'AzotoC', 'MetanoC', 'Monossido di CarbonioC', 'CO2C', 'EtanoC', 'H2SC', 'PropileneC', 'PropanoC', 'DMEC', 'MetanoloC', 'n-ButanoC', 'EtanoloC', 'i-PentanoC', 'n-PentanoC', 'n-EsanoC', 'BenzeneC', 'TolueneC', 'EtilBenzeneC', 'm,p-XileneC', 'o-XileneC', 'OssigenoNC', 'AzotoNC', 'MetanoNC', 'Monossido di CarbonioNC', 'CO2NC', 'EtanoNC', 'H2SNC', 'PropileneNC', 'PropanoNC', 'DMENC', 'MetanoloNC', 'n-ButanoNC', 'EtanoloNC', 'i-PentanoNC', 'n-PentanoNC', 'n-EsanoNC', 'BenzeneNC', 'TolueneNC', 'EtilBenzeneNC', 'm,p-XileneNC', 'o-XileneNC']\n",
      "   Time (GMT 120 mins)    Sample Name    OssigenoC      AzotoC     MetanoC  \\\n",
      "0            Detectors            NaN  moduleA:tcd                           \n",
      "1  Time (GMT 120 mins)            NaN     Ossigeno       Azoto      Metano   \n",
      "2  2024-10-04 09:22:35  test-02-10-24   0.00007370  0.00000000  0.00000000   \n",
      "3  2024-10-04 09:14:48  test-02-10-24   0.00000000  0.00000000  0.00000000   \n",
      "4  2024-10-04 09:06:59  test-02-10-24   0.00006752  0.00000000  0.00000000   \n",
      "\n",
      "  Monossido di CarbonioC          CO2C      EtanoC        H2SC  PropileneC  \\\n",
      "0                          moduleB:tcd                                       \n",
      "1  Monossido di Carbonio           CO2       Etano         H2S   Propilene   \n",
      "2             0.00000000  100.56460858  0.00000000  0.00000000  0.00000000   \n",
      "3             0.00004435  100.52753060  0.00000000  0.00000000  0.00000000   \n",
      "4             0.00000000  100.56275364  0.00000000  0.00000000  0.00000000   \n",
      "\n",
      "   ...  n-ButanoNC   EtanoloNC  i-PentanoNC n-PentanoNC   n-EsanoNC  \\\n",
      "0  ...                          moduleC:tcd                           \n",
      "1  ...    n-Butano     Etanolo    i-Pentano   n-Pentano     n-Esano   \n",
      "2  ...  0.00000000  0.00000000   0.00000000  0.00000000  0.00000000   \n",
      "3  ...  0.00000000  0.00000000   0.00000000  0.00000000  0.00000000   \n",
      "4  ...  0.00000000  0.00000000   0.00000000  0.00000000  0.00000000   \n",
      "\n",
      "    BenzeneNC   TolueneNC EtilBenzeneNC m,p-XileneNC  o-XileneNC  \n",
      "0                                                                 \n",
      "1     Benzene     Toluene   EtilBenzene   m,p-Xilene    o-Xilene  \n",
      "2  0.00000000  0.00000000    0.00000000   0.00000000  0.00000000  \n",
      "3  0.00000000  0.00000000    0.00000000   0.00000000  0.00000000  \n",
      "4  0.00000000  0.00000000    0.00000000   0.00000000  0.00000000  \n",
      "\n",
      "[5 rows x 44 columns]\n"
     ]
    }
   ],
   "source": [
    "print(list(df.columns))\n",
    "index_NC = df.columns.get_loc(\"NormalizedConcentration\")\n",
    "index_C = df.columns.get_loc(\"Concentration\")\n",
    "print(index_NC, index_C)\n",
    "\n",
    "# Rename columns from index_C to index_NC by appending \"C\"\n",
    "df.columns = list(df.iloc[1, :])\n",
    "colonne = list(df.columns[index_C:])\n",
    "print(colonne)\n",
    "\n",
    "# Rinomina le colonne duplicate\n",
    "colonne_rename = []\n",
    "seen = {}\n",
    "\n",
    "for col in colonne:\n",
    "    if col not in seen:\n",
    "        seen[col] = 0\n",
    "        colonne_rename.append(col + \"C\")\n",
    "    else:\n",
    "        seen[col] += 1\n",
    "        if seen[col] == 1:\n",
    "            colonne_rename.append(col + \"NC\")\n",
    "        else:\n",
    "            colonne_rename.append(col + f\"NC{seen[col]}\")\n",
    "\n",
    "# Rinomina la colonna Sample Name\n",
    "nuove_colonne = list(df.columns[:index_C]) + colonne_rename\n",
    "nuove_colonne[1]= \"Sample Name\"\n",
    "df.columns = nuove_colonne\n",
    "print(list(df.columns))\n",
    "print(df.head())"
   ]
  },
  {
   "cell_type": "code",
   "execution_count": 81,
   "metadata": {},
   "outputs": [
    {
     "name": "stdout",
     "output_type": "stream",
     "text": [
      "   Time (GMT 120 mins)    Sample Name   OssigenoC      AzotoC     MetanoC  \\\n",
      "2  2024-10-04 09:22:35  test-02-10-24  0.00007370  0.00000000  0.00000000   \n",
      "3  2024-10-04 09:14:48  test-02-10-24  0.00000000  0.00000000  0.00000000   \n",
      "4  2024-10-04 09:06:59  test-02-10-24  0.00006752  0.00000000  0.00000000   \n",
      "5  2024-10-04 08:59:12  test-02-10-24  0.00000000  0.00000000  0.00000000   \n",
      "6  2024-10-04 08:51:23  test-02-10-24  0.00000000  0.00000000  0.00000000   \n",
      "\n",
      "  Monossido di CarbonioC          CO2C      EtanoC        H2SC  PropileneC  \\\n",
      "2             0.00000000  100.56460858  0.00000000  0.00000000  0.00000000   \n",
      "3             0.00004435  100.52753060  0.00000000  0.00000000  0.00000000   \n",
      "4             0.00000000  100.56275364  0.00000000  0.00000000  0.00000000   \n",
      "5             0.00000000  100.56706972  0.00000000  0.00000000  0.00000000   \n",
      "6             0.00000000  100.57087746  0.00000000  0.00000000  0.00000000   \n",
      "\n",
      "   ...  n-ButanoNC   EtanoloNC i-PentanoNC n-PentanoNC   n-EsanoNC  \\\n",
      "2  ...  0.00000000  0.00000000  0.00000000  0.00000000  0.00000000   \n",
      "3  ...  0.00000000  0.00000000  0.00000000  0.00000000  0.00000000   \n",
      "4  ...  0.00000000  0.00000000  0.00000000  0.00000000  0.00000000   \n",
      "5  ...  0.00000000  0.00000000  0.00000000  0.00000000  0.00000000   \n",
      "6  ...  0.00000000  0.00000000  0.00000000  0.00000000  0.00000000   \n",
      "\n",
      "    BenzeneNC   TolueneNC EtilBenzeneNC m,p-XileneNC  o-XileneNC  \n",
      "2  0.00000000  0.00000000    0.00000000   0.00000000  0.00000000  \n",
      "3  0.00000000  0.00000000    0.00000000   0.00000000  0.00000000  \n",
      "4  0.00000000  0.00000000    0.00000000   0.00000000  0.00000000  \n",
      "5  0.00000000  0.00000000    0.00000000   0.00000000  0.00000000  \n",
      "6  0.00000000  0.00000000    0.00000000   0.00000000  0.00000000  \n",
      "\n",
      "[5 rows x 44 columns]\n"
     ]
    }
   ],
   "source": [
    "df.drop([0, 1], inplace=True)\n",
    "print(df.head())"
   ]
  },
  {
   "cell_type": "code",
   "execution_count": 82,
   "metadata": {},
   "outputs": [],
   "source": [
    "#elimina l'ultima riga\n",
    "df.drop(df.tail(1).index, inplace=True)"
   ]
  },
  {
   "cell_type": "code",
   "execution_count": 83,
   "metadata": {},
   "outputs": [],
   "source": [
    "#converti i valori delle colonne in float\n",
    "for col in colonne_rename:\n",
    "    df[col] = df[col].str.replace(\",\", \".\").astype(float)"
   ]
  },
  {
   "cell_type": "code",
   "execution_count": 88,
   "metadata": {},
   "outputs": [
    {
     "name": "stdout",
     "output_type": "stream",
     "text": [
      "La colonna 'EtanoC' non esiste nel DataFrame filtrato.\n"
     ]
    }
   ],
   "source": [
    "# Identifica le righe con almeno un valore diverso da 0\n",
    "df_filtered = df.loc[(df != 0).any(axis=1)]\n",
    "\n",
    "# Rimuovi le colonne che contengono solo valori zero\n",
    "df_filtered = df_filtered.loc[:, (df_filtered != 0).any(axis=0)]\n",
    "\n",
    "# Verifica se la colonna \"EtanoC\" esiste nel DataFrame filtrato\n",
    "if \"EtanoC\" in df_filtered.columns:\n",
    "    # Filtra ulteriormente per mantenere solo i valori non zero nella colonna \"EtanoC\"\n",
    "    etanoC_non_zero = df_filtered[\"EtanoC\"].loc[df_filtered[\"EtanoC\"] != 0]\n",
    "    if not etanoC_non_zero.empty:\n",
    "        print(etanoC_non_zero)\n",
    "    else:\n",
    "        print(\"Tutti i valori nella colonna 'EtanoC' sono zero.\")\n",
    "else:\n",
    "    print(\"La colonna 'EtanoC' non esiste nel DataFrame filtrato.\")"
   ]
  },
  {
   "cell_type": "code",
   "execution_count": 89,
   "metadata": {},
   "outputs": [
    {
     "name": "stdout",
     "output_type": "stream",
     "text": [
      "Index(['Time (GMT 120 mins)', 'Sample Name', 'OssigenoC',\n",
      "       'Monossido di CarbonioC', 'CO2C', 'OssigenoNC',\n",
      "       'Monossido di CarbonioNC', 'CO2NC'],\n",
      "      dtype='object')\n",
      "Index(['Time (GMT 120 mins)', 'Sample Name', 'OssigenoC', 'AzotoC', 'MetanoC',\n",
      "       'Monossido di CarbonioC', 'CO2C', 'EtanoC', 'H2SC', 'PropileneC',\n",
      "       'PropanoC', 'DMEC', 'MetanoloC', 'n-ButanoC', 'EtanoloC', 'i-PentanoC',\n",
      "       'n-PentanoC', 'n-EsanoC', 'BenzeneC', 'TolueneC', 'EtilBenzeneC',\n",
      "       'm,p-XileneC', 'o-XileneC', 'OssigenoNC', 'AzotoNC', 'MetanoNC',\n",
      "       'Monossido di CarbonioNC', 'CO2NC', 'EtanoNC', 'H2SNC', 'PropileneNC',\n",
      "       'PropanoNC', 'DMENC', 'MetanoloNC', 'n-ButanoNC', 'EtanoloNC',\n",
      "       'i-PentanoNC', 'n-PentanoNC', 'n-EsanoNC', 'BenzeneNC', 'TolueneNC',\n",
      "       'EtilBenzeneNC', 'm,p-XileneNC', 'o-XileneNC'],\n",
      "      dtype='object')\n"
     ]
    }
   ],
   "source": [
    "print(df_filtered.columns)\n",
    "print(df.columns)"
   ]
  },
  {
   "cell_type": "code",
   "execution_count": 68,
   "metadata": {},
   "outputs": [
    {
     "name": "stdout",
     "output_type": "stream",
     "text": [
      "    Time (GMT 120 mins)    Sample Name   OssigenoC      AzotoC     MetanoC  \\\n",
      "50  2024-10-04 03:09:03  test-02-10-24  0.00006959  0.00000000  0.00000000   \n",
      "51  2024-10-04 03:01:18  test-02-10-24  0.00008430  0.00000000  0.00000000   \n",
      "\n",
      "   Monossido di CarbonioC          CO2C      EtanoC        H2SC  PropileneC  \\\n",
      "50             0.00000000  100.21299274  0.00000000  0.00000000  0.00000000   \n",
      "51             0.00000000  100.43207548  0.00000000  0.00000000  0.00000000   \n",
      "\n",
      "    ...  n-ButanoNC   EtanoloNC i-PentanoNC n-PentanoNC   n-EsanoNC  \\\n",
      "50  ...  0.00000000  0.00000000  0.00000000  0.00000000  0.00000000   \n",
      "51  ...  0.00000000  0.00000000  0.00000000  0.00000000  0.00000000   \n",
      "\n",
      "     BenzeneNC   TolueneNC EtilBenzeneNC m,p-XileneNC  o-XileneNC  \n",
      "50  0.00000000  0.00000000    0.00000000   0.00000000  0.00000000  \n",
      "51  0.00000000  0.00000000    0.00000000   0.00000000  0.00000000  \n",
      "\n",
      "[2 rows x 44 columns]\n"
     ]
    }
   ],
   "source": [
    "#stampa le ultime 2 righe\n",
    "print(df.tail(2))"
   ]
  },
  {
   "cell_type": "code",
   "execution_count": 10,
   "metadata": {},
   "outputs": [
    {
     "name": "stdout",
     "output_type": "stream",
     "text": [
      "   Time (GMT 120 mins)            NaN    Ossigeno       Azoto      Metano  \\\n",
      "1  2024-10-04 09:22:35  test-02-10-24  0.00007370  0.00000000  0.00000000   \n",
      "2  2024-10-04 09:14:48  test-02-10-24  0.00000000  0.00000000  0.00000000   \n",
      "3  2024-10-04 09:06:59  test-02-10-24  0.00006752  0.00000000  0.00000000   \n",
      "4  2024-10-04 08:59:12  test-02-10-24  0.00000000  0.00000000  0.00000000   \n",
      "5  2024-10-04 08:51:23  test-02-10-24  0.00000000  0.00000000  0.00000000   \n",
      "\n",
      "  Monossido di Carbonio           CO2       Etano         H2S   Propilene  \\\n",
      "1            0.00000000  100.56460858  0.00000000  0.00000000  0.00000000   \n",
      "2            0.00004435  100.52753060  0.00000000  0.00000000  0.00000000   \n",
      "3            0.00000000  100.56275364  0.00000000  0.00000000  0.00000000   \n",
      "4            0.00000000  100.56706972  0.00000000  0.00000000  0.00000000   \n",
      "5            0.00000000  100.57087746  0.00000000  0.00000000  0.00000000   \n",
      "\n",
      "   ... Etanolo i-Pentano n-Pentano n-Esano Benzene Toluene EtilBenzene  \\\n",
      "1  ...  175.76     44.40     51.28   92.26  112.28  144.20      168.28   \n",
      "2  ...  175.76     44.40     51.28   92.26  112.28  144.20      168.28   \n",
      "3  ...  175.76     44.40     51.28   92.26  112.28  144.20      168.28   \n",
      "4  ...  175.76     44.40     51.28   92.26  112.28  144.20      168.28   \n",
      "5  ...  175.76     44.40     51.28   92.26  112.28  144.20      168.28   \n",
      "\n",
      "  m,p-Xilene o-Xilene count  \n",
      "1     170.24   176.02     1  \n",
      "2     170.24   176.02     2  \n",
      "3     170.24   176.02     3  \n",
      "4     170.24   176.02     4  \n",
      "5     170.24   176.02     5  \n",
      "\n",
      "[5 rows x 87 columns]\n"
     ]
    }
   ],
   "source": [
    "# add a coloumn which count the row starting from 1\n",
    "df['count'] = range(1, len(df) + 1)\n",
    "print(df.head())"
   ]
  },
  {
   "cell_type": "code",
   "execution_count": 92,
   "metadata": {},
   "outputs": [
    {
     "name": "stdout",
     "output_type": "stream",
     "text": [
      "Numero di file con estensione '.fusion-data': 50\n"
     ]
    }
   ],
   "source": [
    "import os\n",
    "\n",
    "# Specifica il percorso della cartella e l'estensione del file\n",
    "path = r\"C:\\Users\\galloni\\Downloads\\Dati\"\n",
    "extension = '.fusion-data'\n",
    "\n",
    "# Conta i file con l'estensione specificata\n",
    "file_count = len([f for f in os.listdir(path) if f.endswith(extension)])\n",
    "\n",
    "print(f\"Numero di file con estensione '{extension}': {file_count}\")"
   ]
  },
  {
   "cell_type": "code",
   "execution_count": 98,
   "metadata": {},
   "outputs": [
    {
     "name": "stdout",
     "output_type": "stream",
     "text": [
      "                        methodLocation methodName  \\\n",
      "moduleA:tcd  /methods/userMethods/LCO2       LCO2   \n",
      "moduleB:tcd  /methods/userMethods/LCO2       LCO2   \n",
      "moduleC:tcd  /methods/userMethods/LCO2       LCO2   \n",
      "comment      /methods/userMethods/LCO2       LCO2   \n",
      "isPreset     /methods/userMethods/LCO2       LCO2   \n",
      "\n",
      "                                                     detectors  \\\n",
      "moduleA:tcd  {'detectorId': 3, 'nValuesPerSecond': 50, 'nVa...   \n",
      "moduleB:tcd  {'detectorId': 3, 'nValuesPerSecond': 100, 'nV...   \n",
      "moduleC:tcd  {'detectorId': 3, 'nValuesPerSecond': 50, 'nVa...   \n",
      "comment                                                    NaN   \n",
      "isPreset                                                   NaN   \n",
      "\n",
      "             runDataFormatLevel              runTimeStamp method  \\\n",
      "moduleA:tcd                   1  2024-10-04T01:01:18.767Z    NaN   \n",
      "moduleB:tcd                   1  2024-10-04T01:01:18.767Z    NaN   \n",
      "moduleC:tcd                   1  2024-10-04T01:01:18.767Z    NaN   \n",
      "comment                       1  2024-10-04T01:01:18.767Z          \n",
      "isPreset                      1  2024-10-04T01:01:18.767Z   True   \n",
      "\n",
      "            systemConfiguration annotations sequence softwareVersion  \\\n",
      "moduleA:tcd                 NaN         NaN      NaN             NaN   \n",
      "moduleB:tcd                 NaN         NaN      NaN             NaN   \n",
      "moduleC:tcd                 NaN         NaN      NaN             NaN   \n",
      "comment                     NaN         NaN      NaN             NaN   \n",
      "isPreset                    NaN         NaN      NaN             NaN   \n",
      "\n",
      "             frontInletTotalConcentration $displayName  \\\n",
      "moduleA:tcd                     100.43216         LCO2   \n",
      "moduleB:tcd                     100.43216         LCO2   \n",
      "moduleC:tcd                     100.43216         LCO2   \n",
      "comment                         100.43216         LCO2   \n",
      "isPreset                        100.43216         LCO2   \n",
      "\n",
      "                                              $id  \n",
      "moduleA:tcd  deddc5c3-2b1e-4e88-ad72-b5e8bb1d67ee  \n",
      "moduleB:tcd  deddc5c3-2b1e-4e88-ad72-b5e8bb1d67ee  \n",
      "moduleC:tcd  deddc5c3-2b1e-4e88-ad72-b5e8bb1d67ee  \n",
      "comment      deddc5c3-2b1e-4e88-ad72-b5e8bb1d67ee  \n",
      "isPreset     deddc5c3-2b1e-4e88-ad72-b5e8bb1d67ee  \n"
     ]
    }
   ],
   "source": [
    "import pandas as pd\n",
    "import os\n",
    "\n",
    "file = r\"C:\\Users\\galloni\\Downloads\\Dati\\test-02-10-24 - Oct 04 2024, 03;01.fusion-data\"\n",
    "\n",
    "# Verifica che il file esista\n",
    "if os.path.exists(file):\n",
    "    # Importa i dati dal file fusion-data\n",
    "    df3 = pd.read_json(file, orient='records')\n",
    "    print(df3.head())\n",
    "else:\n",
    "    print(f\"Il file {file} non esiste.\")"
   ]
  },
  {
   "cell_type": "code",
   "execution_count": 99,
   "metadata": {},
   "outputs": [
    {
     "name": "stdout",
     "output_type": "stream",
     "text": [
      "Index(['methodLocation', 'methodName', 'detectors', 'runDataFormatLevel',\n",
      "       'runTimeStamp', 'method', 'systemConfiguration', 'annotations',\n",
      "       'sequence', 'softwareVersion', 'frontInletTotalConcentration',\n",
      "       '$displayName', '$id'],\n",
      "      dtype='object')\n"
     ]
    }
   ],
   "source": [
    "print(df3.columns)"
   ]
  }
 ],
 "metadata": {
  "kernelspec": {
   "display_name": "Python 3",
   "language": "python",
   "name": "python3"
  },
  "language_info": {
   "codemirror_mode": {
    "name": "ipython",
    "version": 3
   },
   "file_extension": ".py",
   "mimetype": "text/x-python",
   "name": "python",
   "nbconvert_exporter": "python",
   "pygments_lexer": "ipython3",
   "version": "3.11.9"
  }
 },
 "nbformat": 4,
 "nbformat_minor": 2
}
